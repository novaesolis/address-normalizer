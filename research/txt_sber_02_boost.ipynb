{
  "nbformat": 4,
  "nbformat_minor": 0,
  "metadata": {
    "colab": {
      "name": "txt_sber_02_boost.ipynb",
      "provenance": [],
      "collapsed_sections": []
    },
    "kernelspec": {
      "name": "python3",
      "display_name": "Python 3"
    }
  },
  "cells": [
    {
      "cell_type": "code",
      "metadata": {
        "id": "7ptUn4Nu1I96",
        "colab_type": "code",
        "colab": {}
      },
      "source": [
        "# подгружаем необходимые библиотеки и фиксируем random state\n",
        "\n",
        "import numpy as np # linear algebra\n",
        "import pandas as pd # data processing, CSV file I/O (e.g. pd.read_csv)\n",
        "import os\n",
        "import re\n",
        "import scipy\n",
        "import collections\n",
        "import matplotlib.pyplot as plt\n",
        "# %matplotlib inline\n",
        "\n",
        "RS=42"
      ],
      "execution_count": 0,
      "outputs": []
    },
    {
      "cell_type": "code",
      "metadata": {
        "id": "qF6e_90_1KZC",
        "colab_type": "code",
        "outputId": "09be9a14-3ac5-47ae-b939-9c0ec5f62725",
        "colab": {
          "base_uri": "https://localhost:8080/",
          "height": 122
        }
      },
      "source": [
        "#подключаем гугл диск на котором данные\n",
        "from google.colab import drive\n",
        "drive.mount ('/content/gdrive', force_remount = True)"
      ],
      "execution_count": 0,
      "outputs": [
        {
          "output_type": "stream",
          "text": [
            "Go to this URL in a browser: https://accounts.google.com/o/oauth2/auth?client_id=947318989803-6bn6qk8qdgf4n4g3pfee6491hc0brc4i.apps.googleusercontent.com&redirect_uri=urn%3aietf%3awg%3aoauth%3a2.0%3aoob&response_type=code&scope=email%20https%3a%2f%2fwww.googleapis.com%2fauth%2fdocs.test%20https%3a%2f%2fwww.googleapis.com%2fauth%2fdrive%20https%3a%2f%2fwww.googleapis.com%2fauth%2fdrive.photos.readonly%20https%3a%2f%2fwww.googleapis.com%2fauth%2fpeopleapi.readonly\n",
            "\n",
            "Enter your authorization code:\n",
            "··········\n",
            "Mounted at /content/gdrive\n"
          ],
          "name": "stdout"
        }
      ]
    },
    {
      "cell_type": "code",
      "metadata": {
        "id": "tptELsrX1KsM",
        "colab_type": "code",
        "outputId": "ecbbbe68-255c-4fc6-ed08-b8bda25e5b36",
        "colab": {
          "base_uri": "https://localhost:8080/",
          "height": 428
        }
      },
      "source": [
        "#загружаем данные в датафреймы\n",
        "bad_df=pd.read_csv('../content/gdrive/My Drive/dataset_sber_dj/bad.csv',sep=';')\n",
        "bad_df.head(1_000_000)"
      ],
      "execution_count": 0,
      "outputs": [
        {
          "output_type": "error",
          "ename": "FileNotFoundError",
          "evalue": "ignored",
          "traceback": [
            "\u001b[0;31m---------------------------------------------------------------------------\u001b[0m",
            "\u001b[0;31mFileNotFoundError\u001b[0m                         Traceback (most recent call last)",
            "\u001b[0;32m<ipython-input-4-0bf152d54472>\u001b[0m in \u001b[0;36m<module>\u001b[0;34m()\u001b[0m\n\u001b[1;32m      1\u001b[0m \u001b[0;31m#загружаем данные в датафреймы\u001b[0m\u001b[0;34m\u001b[0m\u001b[0;34m\u001b[0m\u001b[0;34m\u001b[0m\u001b[0m\n\u001b[0;32m----> 2\u001b[0;31m \u001b[0mbad_df\u001b[0m\u001b[0;34m=\u001b[0m\u001b[0mpd\u001b[0m\u001b[0;34m.\u001b[0m\u001b[0mread_csv\u001b[0m\u001b[0;34m(\u001b[0m\u001b[0;34m'../content/gdrive/My Drive/dataset_sber_dj/bad.csv'\u001b[0m\u001b[0;34m,\u001b[0m\u001b[0msep\u001b[0m\u001b[0;34m=\u001b[0m\u001b[0;34m';'\u001b[0m\u001b[0;34m)\u001b[0m\u001b[0;34m\u001b[0m\u001b[0;34m\u001b[0m\u001b[0m\n\u001b[0m\u001b[1;32m      3\u001b[0m \u001b[0mbad_df\u001b[0m\u001b[0;34m.\u001b[0m\u001b[0mhead\u001b[0m\u001b[0;34m(\u001b[0m\u001b[0;36m1_000_000\u001b[0m\u001b[0;34m)\u001b[0m\u001b[0;34m\u001b[0m\u001b[0;34m\u001b[0m\u001b[0m\n",
            "\u001b[0;32m/usr/local/lib/python3.6/dist-packages/pandas/io/parsers.py\u001b[0m in \u001b[0;36mparser_f\u001b[0;34m(filepath_or_buffer, sep, delimiter, header, names, index_col, usecols, squeeze, prefix, mangle_dupe_cols, dtype, engine, converters, true_values, false_values, skipinitialspace, skiprows, skipfooter, nrows, na_values, keep_default_na, na_filter, verbose, skip_blank_lines, parse_dates, infer_datetime_format, keep_date_col, date_parser, dayfirst, cache_dates, iterator, chunksize, compression, thousands, decimal, lineterminator, quotechar, quoting, doublequote, escapechar, comment, encoding, dialect, error_bad_lines, warn_bad_lines, delim_whitespace, low_memory, memory_map, float_precision)\u001b[0m\n\u001b[1;32m    674\u001b[0m         )\n\u001b[1;32m    675\u001b[0m \u001b[0;34m\u001b[0m\u001b[0m\n\u001b[0;32m--> 676\u001b[0;31m         \u001b[0;32mreturn\u001b[0m \u001b[0m_read\u001b[0m\u001b[0;34m(\u001b[0m\u001b[0mfilepath_or_buffer\u001b[0m\u001b[0;34m,\u001b[0m \u001b[0mkwds\u001b[0m\u001b[0;34m)\u001b[0m\u001b[0;34m\u001b[0m\u001b[0;34m\u001b[0m\u001b[0m\n\u001b[0m\u001b[1;32m    677\u001b[0m \u001b[0;34m\u001b[0m\u001b[0m\n\u001b[1;32m    678\u001b[0m     \u001b[0mparser_f\u001b[0m\u001b[0;34m.\u001b[0m\u001b[0m__name__\u001b[0m \u001b[0;34m=\u001b[0m \u001b[0mname\u001b[0m\u001b[0;34m\u001b[0m\u001b[0;34m\u001b[0m\u001b[0m\n",
            "\u001b[0;32m/usr/local/lib/python3.6/dist-packages/pandas/io/parsers.py\u001b[0m in \u001b[0;36m_read\u001b[0;34m(filepath_or_buffer, kwds)\u001b[0m\n\u001b[1;32m    446\u001b[0m \u001b[0;34m\u001b[0m\u001b[0m\n\u001b[1;32m    447\u001b[0m     \u001b[0;31m# Create the parser.\u001b[0m\u001b[0;34m\u001b[0m\u001b[0;34m\u001b[0m\u001b[0;34m\u001b[0m\u001b[0m\n\u001b[0;32m--> 448\u001b[0;31m     \u001b[0mparser\u001b[0m \u001b[0;34m=\u001b[0m \u001b[0mTextFileReader\u001b[0m\u001b[0;34m(\u001b[0m\u001b[0mfp_or_buf\u001b[0m\u001b[0;34m,\u001b[0m \u001b[0;34m**\u001b[0m\u001b[0mkwds\u001b[0m\u001b[0;34m)\u001b[0m\u001b[0;34m\u001b[0m\u001b[0;34m\u001b[0m\u001b[0m\n\u001b[0m\u001b[1;32m    449\u001b[0m \u001b[0;34m\u001b[0m\u001b[0m\n\u001b[1;32m    450\u001b[0m     \u001b[0;32mif\u001b[0m \u001b[0mchunksize\u001b[0m \u001b[0;32mor\u001b[0m \u001b[0miterator\u001b[0m\u001b[0;34m:\u001b[0m\u001b[0;34m\u001b[0m\u001b[0;34m\u001b[0m\u001b[0m\n",
            "\u001b[0;32m/usr/local/lib/python3.6/dist-packages/pandas/io/parsers.py\u001b[0m in \u001b[0;36m__init__\u001b[0;34m(self, f, engine, **kwds)\u001b[0m\n\u001b[1;32m    878\u001b[0m             \u001b[0mself\u001b[0m\u001b[0;34m.\u001b[0m\u001b[0moptions\u001b[0m\u001b[0;34m[\u001b[0m\u001b[0;34m\"has_index_names\"\u001b[0m\u001b[0;34m]\u001b[0m \u001b[0;34m=\u001b[0m \u001b[0mkwds\u001b[0m\u001b[0;34m[\u001b[0m\u001b[0;34m\"has_index_names\"\u001b[0m\u001b[0;34m]\u001b[0m\u001b[0;34m\u001b[0m\u001b[0;34m\u001b[0m\u001b[0m\n\u001b[1;32m    879\u001b[0m \u001b[0;34m\u001b[0m\u001b[0m\n\u001b[0;32m--> 880\u001b[0;31m         \u001b[0mself\u001b[0m\u001b[0;34m.\u001b[0m\u001b[0m_make_engine\u001b[0m\u001b[0;34m(\u001b[0m\u001b[0mself\u001b[0m\u001b[0;34m.\u001b[0m\u001b[0mengine\u001b[0m\u001b[0;34m)\u001b[0m\u001b[0;34m\u001b[0m\u001b[0;34m\u001b[0m\u001b[0m\n\u001b[0m\u001b[1;32m    881\u001b[0m \u001b[0;34m\u001b[0m\u001b[0m\n\u001b[1;32m    882\u001b[0m     \u001b[0;32mdef\u001b[0m \u001b[0mclose\u001b[0m\u001b[0;34m(\u001b[0m\u001b[0mself\u001b[0m\u001b[0;34m)\u001b[0m\u001b[0;34m:\u001b[0m\u001b[0;34m\u001b[0m\u001b[0;34m\u001b[0m\u001b[0m\n",
            "\u001b[0;32m/usr/local/lib/python3.6/dist-packages/pandas/io/parsers.py\u001b[0m in \u001b[0;36m_make_engine\u001b[0;34m(self, engine)\u001b[0m\n\u001b[1;32m   1112\u001b[0m     \u001b[0;32mdef\u001b[0m \u001b[0m_make_engine\u001b[0m\u001b[0;34m(\u001b[0m\u001b[0mself\u001b[0m\u001b[0;34m,\u001b[0m \u001b[0mengine\u001b[0m\u001b[0;34m=\u001b[0m\u001b[0;34m\"c\"\u001b[0m\u001b[0;34m)\u001b[0m\u001b[0;34m:\u001b[0m\u001b[0;34m\u001b[0m\u001b[0;34m\u001b[0m\u001b[0m\n\u001b[1;32m   1113\u001b[0m         \u001b[0;32mif\u001b[0m \u001b[0mengine\u001b[0m \u001b[0;34m==\u001b[0m \u001b[0;34m\"c\"\u001b[0m\u001b[0;34m:\u001b[0m\u001b[0;34m\u001b[0m\u001b[0;34m\u001b[0m\u001b[0m\n\u001b[0;32m-> 1114\u001b[0;31m             \u001b[0mself\u001b[0m\u001b[0;34m.\u001b[0m\u001b[0m_engine\u001b[0m \u001b[0;34m=\u001b[0m \u001b[0mCParserWrapper\u001b[0m\u001b[0;34m(\u001b[0m\u001b[0mself\u001b[0m\u001b[0;34m.\u001b[0m\u001b[0mf\u001b[0m\u001b[0;34m,\u001b[0m \u001b[0;34m**\u001b[0m\u001b[0mself\u001b[0m\u001b[0;34m.\u001b[0m\u001b[0moptions\u001b[0m\u001b[0;34m)\u001b[0m\u001b[0;34m\u001b[0m\u001b[0;34m\u001b[0m\u001b[0m\n\u001b[0m\u001b[1;32m   1115\u001b[0m         \u001b[0;32melse\u001b[0m\u001b[0;34m:\u001b[0m\u001b[0;34m\u001b[0m\u001b[0;34m\u001b[0m\u001b[0m\n\u001b[1;32m   1116\u001b[0m             \u001b[0;32mif\u001b[0m \u001b[0mengine\u001b[0m \u001b[0;34m==\u001b[0m \u001b[0;34m\"python\"\u001b[0m\u001b[0;34m:\u001b[0m\u001b[0;34m\u001b[0m\u001b[0;34m\u001b[0m\u001b[0m\n",
            "\u001b[0;32m/usr/local/lib/python3.6/dist-packages/pandas/io/parsers.py\u001b[0m in \u001b[0;36m__init__\u001b[0;34m(self, src, **kwds)\u001b[0m\n\u001b[1;32m   1889\u001b[0m         \u001b[0mkwds\u001b[0m\u001b[0;34m[\u001b[0m\u001b[0;34m\"usecols\"\u001b[0m\u001b[0;34m]\u001b[0m \u001b[0;34m=\u001b[0m \u001b[0mself\u001b[0m\u001b[0;34m.\u001b[0m\u001b[0musecols\u001b[0m\u001b[0;34m\u001b[0m\u001b[0;34m\u001b[0m\u001b[0m\n\u001b[1;32m   1890\u001b[0m \u001b[0;34m\u001b[0m\u001b[0m\n\u001b[0;32m-> 1891\u001b[0;31m         \u001b[0mself\u001b[0m\u001b[0;34m.\u001b[0m\u001b[0m_reader\u001b[0m \u001b[0;34m=\u001b[0m \u001b[0mparsers\u001b[0m\u001b[0;34m.\u001b[0m\u001b[0mTextReader\u001b[0m\u001b[0;34m(\u001b[0m\u001b[0msrc\u001b[0m\u001b[0;34m,\u001b[0m \u001b[0;34m**\u001b[0m\u001b[0mkwds\u001b[0m\u001b[0;34m)\u001b[0m\u001b[0;34m\u001b[0m\u001b[0;34m\u001b[0m\u001b[0m\n\u001b[0m\u001b[1;32m   1892\u001b[0m         \u001b[0mself\u001b[0m\u001b[0;34m.\u001b[0m\u001b[0munnamed_cols\u001b[0m \u001b[0;34m=\u001b[0m \u001b[0mself\u001b[0m\u001b[0;34m.\u001b[0m\u001b[0m_reader\u001b[0m\u001b[0;34m.\u001b[0m\u001b[0munnamed_cols\u001b[0m\u001b[0;34m\u001b[0m\u001b[0;34m\u001b[0m\u001b[0m\n\u001b[1;32m   1893\u001b[0m \u001b[0;34m\u001b[0m\u001b[0m\n",
            "\u001b[0;32mpandas/_libs/parsers.pyx\u001b[0m in \u001b[0;36mpandas._libs.parsers.TextReader.__cinit__\u001b[0;34m()\u001b[0m\n",
            "\u001b[0;32mpandas/_libs/parsers.pyx\u001b[0m in \u001b[0;36mpandas._libs.parsers.TextReader._setup_parser_source\u001b[0;34m()\u001b[0m\n",
            "\u001b[0;31mFileNotFoundError\u001b[0m: [Errno 2] File ../content/gdrive/My Drive/dataset_sber_dj/bad.csv does not exist: '../content/gdrive/My Drive/dataset_sber_dj/bad.csv'"
          ]
        }
      ]
    },
    {
      "cell_type": "code",
      "metadata": {
        "id": "aatWqQ5g4FX8",
        "colab_type": "code",
        "outputId": "2a46723b-fa86-484c-b452-b185efc78943",
        "colab": {
          "base_uri": "https://localhost:8080/",
          "height": 955
        }
      },
      "source": [
        "#загружаем данные в датафреймы\n",
        "good_df=pd.read_csv('../content/gdrive/My Drive/dataset_sber_dj/good_half2.csv',sep=';',index_col='num')\n",
        "good_df.head(1_000_000)"
      ],
      "execution_count": 0,
      "outputs": [
        {
          "output_type": "execute_result",
          "data": {
            "text/html": [
              "<div>\n",
              "<style scoped>\n",
              "    .dataframe tbody tr th:only-of-type {\n",
              "        vertical-align: middle;\n",
              "    }\n",
              "\n",
              "    .dataframe tbody tr th {\n",
              "        vertical-align: top;\n",
              "    }\n",
              "\n",
              "    .dataframe thead th {\n",
              "        text-align: right;\n",
              "    }\n",
              "</style>\n",
              "<table border=\"1\" class=\"dataframe\">\n",
              "  <thead>\n",
              "    <tr style=\"text-align: right;\">\n",
              "      <th></th>\n",
              "      <th>id</th>\n",
              "      <th>original</th>\n",
              "      <th>type</th>\n",
              "      <th>country</th>\n",
              "      <th>town</th>\n",
              "      <th>field8</th>\n",
              "      <th>field9</th>\n",
              "      <th>fiel10</th>\n",
              "      <th>field11</th>\n",
              "      <th>field12</th>\n",
              "      <th>field13</th>\n",
              "      <th>field14</th>\n",
              "      <th>field15</th>\n",
              "      <th>field16</th>\n",
              "    </tr>\n",
              "    <tr>\n",
              "      <th>num</th>\n",
              "      <th></th>\n",
              "      <th></th>\n",
              "      <th></th>\n",
              "      <th></th>\n",
              "      <th></th>\n",
              "      <th></th>\n",
              "      <th></th>\n",
              "      <th></th>\n",
              "      <th></th>\n",
              "      <th></th>\n",
              "      <th></th>\n",
              "      <th></th>\n",
              "      <th></th>\n",
              "      <th></th>\n",
              "    </tr>\n",
              "  </thead>\n",
              "  <tbody>\n",
              "    <tr>\n",
              "      <th>1</th>\n",
              "      <td>10000003</td>\n",
              "      <td>115516, Москва, Бехтерева, 2, 1</td>\n",
              "      <td>house</td>\n",
              "      <td>РОССИЯ</td>\n",
              "      <td>МОСКВА</td>\n",
              "      <td>МОСКВА</td>\n",
              "      <td>NaN</td>\n",
              "      <td>NaN</td>\n",
              "      <td>NaN</td>\n",
              "      <td>Улица</td>\n",
              "      <td>БЕХТЕРЕВА</td>\n",
              "      <td>2</td>\n",
              "      <td>NaN</td>\n",
              "      <td>NaN</td>\n",
              "    </tr>\n",
              "    <tr>\n",
              "      <th>2</th>\n",
              "      <td>10000004</td>\n",
              "      <td>117279, г. Москва, ул. Миклухо-Маклая, д.34, ...</td>\n",
              "      <td>house</td>\n",
              "      <td>РОССИЯ</td>\n",
              "      <td>МОСКВА</td>\n",
              "      <td>МОСКВА</td>\n",
              "      <td>NaN</td>\n",
              "      <td>NaN</td>\n",
              "      <td>NaN</td>\n",
              "      <td>Улица</td>\n",
              "      <td>МИКЛУХО-МАКЛАЯ</td>\n",
              "      <td>34</td>\n",
              "      <td>NaN</td>\n",
              "      <td>NaN</td>\n",
              "    </tr>\n",
              "    <tr>\n",
              "      <th>3</th>\n",
              "      <td>10000005</td>\n",
              "      <td>127083, Москва, ул. Масловка В, 20, 1, 6</td>\n",
              "      <td>house</td>\n",
              "      <td>РОССИЯ</td>\n",
              "      <td>МОСКВА</td>\n",
              "      <td>МОСКВА</td>\n",
              "      <td>NaN</td>\n",
              "      <td>NaN</td>\n",
              "      <td>NaN</td>\n",
              "      <td>Улица</td>\n",
              "      <td>МАСЛОВКА В.</td>\n",
              "      <td>20</td>\n",
              "      <td>NaN</td>\n",
              "      <td>1</td>\n",
              "    </tr>\n",
              "    <tr>\n",
              "      <th>4</th>\n",
              "      <td>10000006</td>\n",
              "      <td>Область Московская, Район Раменский</td>\n",
              "      <td>subregion</td>\n",
              "      <td>РОССИЯ</td>\n",
              "      <td>МОСКОВСКАЯ</td>\n",
              "      <td>NaN</td>\n",
              "      <td>NaN</td>\n",
              "      <td>Район</td>\n",
              "      <td>РАМЕНСКИЙ</td>\n",
              "      <td>NaN</td>\n",
              "      <td>NaN</td>\n",
              "      <td>NaN</td>\n",
              "      <td>NaN</td>\n",
              "      <td>NaN</td>\n",
              "    </tr>\n",
              "    <tr>\n",
              "      <th>5</th>\n",
              "      <td>10000007</td>\n",
              "      <td>Область Московская, Район Сергиево-Посадский,...</td>\n",
              "      <td>city</td>\n",
              "      <td>РОССИЯ</td>\n",
              "      <td>МОСКОВСКАЯ</td>\n",
              "      <td>ХОТЬКОВО</td>\n",
              "      <td>NaN</td>\n",
              "      <td>Район</td>\n",
              "      <td>СЕРГИЕВО-ПОСАДСКИЙ</td>\n",
              "      <td>NaN</td>\n",
              "      <td>NaN</td>\n",
              "      <td>NaN</td>\n",
              "      <td>NaN</td>\n",
              "      <td>NaN</td>\n",
              "    </tr>\n",
              "    <tr>\n",
              "      <th>...</th>\n",
              "      <td>...</td>\n",
              "      <td>...</td>\n",
              "      <td>...</td>\n",
              "      <td>...</td>\n",
              "      <td>...</td>\n",
              "      <td>...</td>\n",
              "      <td>...</td>\n",
              "      <td>...</td>\n",
              "      <td>...</td>\n",
              "      <td>...</td>\n",
              "      <td>...</td>\n",
              "      <td>...</td>\n",
              "      <td>...</td>\n",
              "      <td>...</td>\n",
              "    </tr>\n",
              "    <tr>\n",
              "      <th>683297</th>\n",
              "      <td>10683359</td>\n",
              "      <td>Пресненский, г. Москва, Звенигородское шоссе 28с5</td>\n",
              "      <td>house</td>\n",
              "      <td>РОССИЯ</td>\n",
              "      <td>МОСКВА</td>\n",
              "      <td>МОСКВА</td>\n",
              "      <td>NaN</td>\n",
              "      <td>NaN</td>\n",
              "      <td>NaN</td>\n",
              "      <td>Шоссе</td>\n",
              "      <td>ЗВЕНИГОРОДСКОЕ</td>\n",
              "      <td>28</td>\n",
              "      <td>5</td>\n",
              "      <td>NaN</td>\n",
              "    </tr>\n",
              "    <tr>\n",
              "      <th>683298</th>\n",
              "      <td>10683360</td>\n",
              "      <td>Пресненский, г. Москва, Звенигородское шоссе 28с6</td>\n",
              "      <td>house</td>\n",
              "      <td>РОССИЯ</td>\n",
              "      <td>МОСКВА</td>\n",
              "      <td>МОСКВА</td>\n",
              "      <td>NaN</td>\n",
              "      <td>NaN</td>\n",
              "      <td>NaN</td>\n",
              "      <td>Шоссе</td>\n",
              "      <td>ЗВЕНИГОРОДСКОЕ</td>\n",
              "      <td>28</td>\n",
              "      <td>6</td>\n",
              "      <td>NaN</td>\n",
              "    </tr>\n",
              "    <tr>\n",
              "      <th>683299</th>\n",
              "      <td>10683361</td>\n",
              "      <td>Пресненский, г. Москва, Звенигородское шоссе 28с6</td>\n",
              "      <td>house</td>\n",
              "      <td>NaN</td>\n",
              "      <td>МОСКВА</td>\n",
              "      <td>МОСКВА</td>\n",
              "      <td>NaN</td>\n",
              "      <td>NaN</td>\n",
              "      <td>NaN</td>\n",
              "      <td>Шоссе</td>\n",
              "      <td>ЗВЕНИГОРОДСКОЕ</td>\n",
              "      <td>28</td>\n",
              "      <td>6</td>\n",
              "      <td>NaN</td>\n",
              "    </tr>\n",
              "    <tr>\n",
              "      <th>683300</th>\n",
              "      <td>10683362</td>\n",
              "      <td>Пресненский, г. Москва, Звенигородское шоссе 4</td>\n",
              "      <td>house</td>\n",
              "      <td>РОССИЯ</td>\n",
              "      <td>МОСКВА</td>\n",
              "      <td>МОСКВА</td>\n",
              "      <td>NaN</td>\n",
              "      <td>NaN</td>\n",
              "      <td>NaN</td>\n",
              "      <td>Шоссе</td>\n",
              "      <td>ЗВЕНИГОРОДСКОЕ</td>\n",
              "      <td>4</td>\n",
              "      <td>NaN</td>\n",
              "      <td>NaN</td>\n",
              "    </tr>\n",
              "    <tr>\n",
              "      <th>683301</th>\n",
              "      <td>10683363</td>\n",
              "      <td>Пресненский, г. Москва, Звенигородское шоссе 4</td>\n",
              "      <td>house</td>\n",
              "      <td>NaN</td>\n",
              "      <td>МОСКВА</td>\n",
              "      <td>МОСКВА</td>\n",
              "      <td>NaN</td>\n",
              "      <td>NaN</td>\n",
              "      <td>NaN</td>\n",
              "      <td>Шоссе</td>\n",
              "      <td>ЗВЕНИГ</td>\n",
              "      <td>NaN</td>\n",
              "      <td>NaN</td>\n",
              "      <td>NaN</td>\n",
              "    </tr>\n",
              "  </tbody>\n",
              "</table>\n",
              "<p>683301 rows × 14 columns</p>\n",
              "</div>"
            ],
            "text/plain": [
              "              id  ... field16\n",
              "num               ...        \n",
              "1       10000003  ...     NaN\n",
              "2       10000004  ...     NaN\n",
              "3       10000005  ...       1\n",
              "4       10000006  ...     NaN\n",
              "5       10000007  ...     NaN\n",
              "...          ...  ...     ...\n",
              "683297  10683359  ...     NaN\n",
              "683298  10683360  ...     NaN\n",
              "683299  10683361  ...     NaN\n",
              "683300  10683362  ...     NaN\n",
              "683301  10683363  ...     NaN\n",
              "\n",
              "[683301 rows x 14 columns]"
            ]
          },
          "metadata": {
            "tags": []
          },
          "execution_count": 29
        }
      ]
    },
    {
      "cell_type": "code",
      "metadata": {
        "id": "OGN5xa0iq-ED",
        "colab_type": "code",
        "outputId": "6380d632-98b7-4f37-9b43-6fb03370e4ad",
        "colab": {
          "base_uri": "https://localhost:8080/",
          "height": 284
        }
      },
      "source": [
        "good_df.describe()"
      ],
      "execution_count": 0,
      "outputs": [
        {
          "output_type": "execute_result",
          "data": {
            "text/html": [
              "<div>\n",
              "<style scoped>\n",
              "    .dataframe tbody tr th:only-of-type {\n",
              "        vertical-align: middle;\n",
              "    }\n",
              "\n",
              "    .dataframe tbody tr th {\n",
              "        vertical-align: top;\n",
              "    }\n",
              "\n",
              "    .dataframe thead th {\n",
              "        text-align: right;\n",
              "    }\n",
              "</style>\n",
              "<table border=\"1\" class=\"dataframe\">\n",
              "  <thead>\n",
              "    <tr style=\"text-align: right;\">\n",
              "      <th></th>\n",
              "      <th>id</th>\n",
              "    </tr>\n",
              "  </thead>\n",
              "  <tbody>\n",
              "    <tr>\n",
              "      <th>count</th>\n",
              "      <td>6.833010e+05</td>\n",
              "    </tr>\n",
              "    <tr>\n",
              "      <th>mean</th>\n",
              "      <td>1.034169e+07</td>\n",
              "    </tr>\n",
              "    <tr>\n",
              "      <th>std</th>\n",
              "      <td>1.972676e+05</td>\n",
              "    </tr>\n",
              "    <tr>\n",
              "      <th>min</th>\n",
              "      <td>1.000000e+07</td>\n",
              "    </tr>\n",
              "    <tr>\n",
              "      <th>25%</th>\n",
              "      <td>1.017085e+07</td>\n",
              "    </tr>\n",
              "    <tr>\n",
              "      <th>50%</th>\n",
              "      <td>1.034170e+07</td>\n",
              "    </tr>\n",
              "    <tr>\n",
              "      <th>75%</th>\n",
              "      <td>1.051253e+07</td>\n",
              "    </tr>\n",
              "    <tr>\n",
              "      <th>max</th>\n",
              "      <td>1.068336e+07</td>\n",
              "    </tr>\n",
              "  </tbody>\n",
              "</table>\n",
              "</div>"
            ],
            "text/plain": [
              "                 id\n",
              "count  6.833010e+05\n",
              "mean   1.034169e+07\n",
              "std    1.972676e+05\n",
              "min    1.000000e+07\n",
              "25%    1.017085e+07\n",
              "50%    1.034170e+07\n",
              "75%    1.051253e+07\n",
              "max    1.068336e+07"
            ]
          },
          "metadata": {
            "tags": []
          },
          "execution_count": 30
        }
      ]
    },
    {
      "cell_type": "code",
      "metadata": {
        "id": "YPx4zUK2q-hK",
        "colab_type": "code",
        "outputId": "3ecdcd5f-421f-4c73-9aed-38bc564b73ac",
        "colab": {
          "base_uri": "https://localhost:8080/",
          "height": 955
        }
      },
      "source": [
        "good_df.fillna(value='0',inplace=True)\n",
        "good_df.head(1_000_000)"
      ],
      "execution_count": 0,
      "outputs": [
        {
          "output_type": "execute_result",
          "data": {
            "text/html": [
              "<div>\n",
              "<style scoped>\n",
              "    .dataframe tbody tr th:only-of-type {\n",
              "        vertical-align: middle;\n",
              "    }\n",
              "\n",
              "    .dataframe tbody tr th {\n",
              "        vertical-align: top;\n",
              "    }\n",
              "\n",
              "    .dataframe thead th {\n",
              "        text-align: right;\n",
              "    }\n",
              "</style>\n",
              "<table border=\"1\" class=\"dataframe\">\n",
              "  <thead>\n",
              "    <tr style=\"text-align: right;\">\n",
              "      <th></th>\n",
              "      <th>id</th>\n",
              "      <th>original</th>\n",
              "      <th>type</th>\n",
              "      <th>country</th>\n",
              "      <th>town</th>\n",
              "      <th>field8</th>\n",
              "      <th>field9</th>\n",
              "      <th>fiel10</th>\n",
              "      <th>field11</th>\n",
              "      <th>field12</th>\n",
              "      <th>field13</th>\n",
              "      <th>field14</th>\n",
              "      <th>field15</th>\n",
              "      <th>field16</th>\n",
              "    </tr>\n",
              "    <tr>\n",
              "      <th>num</th>\n",
              "      <th></th>\n",
              "      <th></th>\n",
              "      <th></th>\n",
              "      <th></th>\n",
              "      <th></th>\n",
              "      <th></th>\n",
              "      <th></th>\n",
              "      <th></th>\n",
              "      <th></th>\n",
              "      <th></th>\n",
              "      <th></th>\n",
              "      <th></th>\n",
              "      <th></th>\n",
              "      <th></th>\n",
              "    </tr>\n",
              "  </thead>\n",
              "  <tbody>\n",
              "    <tr>\n",
              "      <th>1</th>\n",
              "      <td>10000003</td>\n",
              "      <td>115516, Москва, Бехтерева, 2, 1</td>\n",
              "      <td>house</td>\n",
              "      <td>РОССИЯ</td>\n",
              "      <td>МОСКВА</td>\n",
              "      <td>МОСКВА</td>\n",
              "      <td>0</td>\n",
              "      <td>0</td>\n",
              "      <td>0</td>\n",
              "      <td>Улица</td>\n",
              "      <td>БЕХТЕРЕВА</td>\n",
              "      <td>2</td>\n",
              "      <td>0</td>\n",
              "      <td>0</td>\n",
              "    </tr>\n",
              "    <tr>\n",
              "      <th>2</th>\n",
              "      <td>10000004</td>\n",
              "      <td>117279, г. Москва, ул. Миклухо-Маклая, д.34, ...</td>\n",
              "      <td>house</td>\n",
              "      <td>РОССИЯ</td>\n",
              "      <td>МОСКВА</td>\n",
              "      <td>МОСКВА</td>\n",
              "      <td>0</td>\n",
              "      <td>0</td>\n",
              "      <td>0</td>\n",
              "      <td>Улица</td>\n",
              "      <td>МИКЛУХО-МАКЛАЯ</td>\n",
              "      <td>34</td>\n",
              "      <td>0</td>\n",
              "      <td>0</td>\n",
              "    </tr>\n",
              "    <tr>\n",
              "      <th>3</th>\n",
              "      <td>10000005</td>\n",
              "      <td>127083, Москва, ул. Масловка В, 20, 1, 6</td>\n",
              "      <td>house</td>\n",
              "      <td>РОССИЯ</td>\n",
              "      <td>МОСКВА</td>\n",
              "      <td>МОСКВА</td>\n",
              "      <td>0</td>\n",
              "      <td>0</td>\n",
              "      <td>0</td>\n",
              "      <td>Улица</td>\n",
              "      <td>МАСЛОВКА В.</td>\n",
              "      <td>20</td>\n",
              "      <td>0</td>\n",
              "      <td>1</td>\n",
              "    </tr>\n",
              "    <tr>\n",
              "      <th>4</th>\n",
              "      <td>10000006</td>\n",
              "      <td>Область Московская, Район Раменский</td>\n",
              "      <td>subregion</td>\n",
              "      <td>РОССИЯ</td>\n",
              "      <td>МОСКОВСКАЯ</td>\n",
              "      <td>0</td>\n",
              "      <td>0</td>\n",
              "      <td>Район</td>\n",
              "      <td>РАМЕНСКИЙ</td>\n",
              "      <td>0</td>\n",
              "      <td>0</td>\n",
              "      <td>0</td>\n",
              "      <td>0</td>\n",
              "      <td>0</td>\n",
              "    </tr>\n",
              "    <tr>\n",
              "      <th>5</th>\n",
              "      <td>10000007</td>\n",
              "      <td>Область Московская, Район Сергиево-Посадский,...</td>\n",
              "      <td>city</td>\n",
              "      <td>РОССИЯ</td>\n",
              "      <td>МОСКОВСКАЯ</td>\n",
              "      <td>ХОТЬКОВО</td>\n",
              "      <td>0</td>\n",
              "      <td>Район</td>\n",
              "      <td>СЕРГИЕВО-ПОСАДСКИЙ</td>\n",
              "      <td>0</td>\n",
              "      <td>0</td>\n",
              "      <td>0</td>\n",
              "      <td>0</td>\n",
              "      <td>0</td>\n",
              "    </tr>\n",
              "    <tr>\n",
              "      <th>...</th>\n",
              "      <td>...</td>\n",
              "      <td>...</td>\n",
              "      <td>...</td>\n",
              "      <td>...</td>\n",
              "      <td>...</td>\n",
              "      <td>...</td>\n",
              "      <td>...</td>\n",
              "      <td>...</td>\n",
              "      <td>...</td>\n",
              "      <td>...</td>\n",
              "      <td>...</td>\n",
              "      <td>...</td>\n",
              "      <td>...</td>\n",
              "      <td>...</td>\n",
              "    </tr>\n",
              "    <tr>\n",
              "      <th>683297</th>\n",
              "      <td>10683359</td>\n",
              "      <td>Пресненский, г. Москва, Звенигородское шоссе 28с5</td>\n",
              "      <td>house</td>\n",
              "      <td>РОССИЯ</td>\n",
              "      <td>МОСКВА</td>\n",
              "      <td>МОСКВА</td>\n",
              "      <td>0</td>\n",
              "      <td>0</td>\n",
              "      <td>0</td>\n",
              "      <td>Шоссе</td>\n",
              "      <td>ЗВЕНИГОРОДСКОЕ</td>\n",
              "      <td>28</td>\n",
              "      <td>5</td>\n",
              "      <td>0</td>\n",
              "    </tr>\n",
              "    <tr>\n",
              "      <th>683298</th>\n",
              "      <td>10683360</td>\n",
              "      <td>Пресненский, г. Москва, Звенигородское шоссе 28с6</td>\n",
              "      <td>house</td>\n",
              "      <td>РОССИЯ</td>\n",
              "      <td>МОСКВА</td>\n",
              "      <td>МОСКВА</td>\n",
              "      <td>0</td>\n",
              "      <td>0</td>\n",
              "      <td>0</td>\n",
              "      <td>Шоссе</td>\n",
              "      <td>ЗВЕНИГОРОДСКОЕ</td>\n",
              "      <td>28</td>\n",
              "      <td>6</td>\n",
              "      <td>0</td>\n",
              "    </tr>\n",
              "    <tr>\n",
              "      <th>683299</th>\n",
              "      <td>10683361</td>\n",
              "      <td>Пресненский, г. Москва, Звенигородское шоссе 28с6</td>\n",
              "      <td>house</td>\n",
              "      <td>0</td>\n",
              "      <td>МОСКВА</td>\n",
              "      <td>МОСКВА</td>\n",
              "      <td>0</td>\n",
              "      <td>0</td>\n",
              "      <td>0</td>\n",
              "      <td>Шоссе</td>\n",
              "      <td>ЗВЕНИГОРОДСКОЕ</td>\n",
              "      <td>28</td>\n",
              "      <td>6</td>\n",
              "      <td>0</td>\n",
              "    </tr>\n",
              "    <tr>\n",
              "      <th>683300</th>\n",
              "      <td>10683362</td>\n",
              "      <td>Пресненский, г. Москва, Звенигородское шоссе 4</td>\n",
              "      <td>house</td>\n",
              "      <td>РОССИЯ</td>\n",
              "      <td>МОСКВА</td>\n",
              "      <td>МОСКВА</td>\n",
              "      <td>0</td>\n",
              "      <td>0</td>\n",
              "      <td>0</td>\n",
              "      <td>Шоссе</td>\n",
              "      <td>ЗВЕНИГОРОДСКОЕ</td>\n",
              "      <td>4</td>\n",
              "      <td>0</td>\n",
              "      <td>0</td>\n",
              "    </tr>\n",
              "    <tr>\n",
              "      <th>683301</th>\n",
              "      <td>10683363</td>\n",
              "      <td>Пресненский, г. Москва, Звенигородское шоссе 4</td>\n",
              "      <td>house</td>\n",
              "      <td>0</td>\n",
              "      <td>МОСКВА</td>\n",
              "      <td>МОСКВА</td>\n",
              "      <td>0</td>\n",
              "      <td>0</td>\n",
              "      <td>0</td>\n",
              "      <td>Шоссе</td>\n",
              "      <td>ЗВЕНИГ</td>\n",
              "      <td>0</td>\n",
              "      <td>0</td>\n",
              "      <td>0</td>\n",
              "    </tr>\n",
              "  </tbody>\n",
              "</table>\n",
              "<p>683301 rows × 14 columns</p>\n",
              "</div>"
            ],
            "text/plain": [
              "              id  ... field16\n",
              "num               ...        \n",
              "1       10000003  ...       0\n",
              "2       10000004  ...       0\n",
              "3       10000005  ...       1\n",
              "4       10000006  ...       0\n",
              "5       10000007  ...       0\n",
              "...          ...  ...     ...\n",
              "683297  10683359  ...       0\n",
              "683298  10683360  ...       0\n",
              "683299  10683361  ...       0\n",
              "683300  10683362  ...       0\n",
              "683301  10683363  ...       0\n",
              "\n",
              "[683301 rows x 14 columns]"
            ]
          },
          "metadata": {
            "tags": []
          },
          "execution_count": 31
        }
      ]
    },
    {
      "cell_type": "code",
      "metadata": {
        "id": "J8CF7mGt10dX",
        "colab_type": "code",
        "outputId": "6815841d-a460-445a-eb38-2b6ee44fedb1",
        "colab": {
          "base_uri": "https://localhost:8080/",
          "height": 54
        }
      },
      "source": [
        "list_txt =[]  #список который будем токенизировать\n",
        "f = open('../content/gdrive/My Drive/dataset_sber_dj/good_txt2.txt', 'r')\n",
        "\n",
        "for line in f:\n",
        "  list_txt.append(line)\n",
        "\n",
        "print(list_txt[:10])\n"
      ],
      "execution_count": 0,
      "outputs": [
        {
          "output_type": "stream",
          "text": [
            "['num;txt2\\n', '1; 115516, Москва, Бехтерева, 2, 1 house РОССИЯ МОСКВА МОСКВА 0 0 0 Улица БЕХТЕРЕВА 2 0 0\\n', '2; 117279, г. Москва, ул. Миклухо-Маклая, д.34, оф.35 house РОССИЯ МОСКВА МОСКВА 0 0 0 Улица МИКЛУХО-МАКЛАЯ 34 0 0\\n', '3; 127083, Москва, ул. Масловка В, 20, 1, 6 house РОССИЯ МОСКВА МОСКВА 0 0 0 Улица МАСЛОВКА В. 20 0 1\\n', '4; Область Московская, Район Раменский subregion РОССИЯ МОСКОВСКАЯ 0 0 Район РАМЕНСКИЙ 0 0 0 0 0\\n', '5; Область Московская, Район Сергиево-Посадский, Город Хотьково city РОССИЯ МОСКОВСКАЯ ХОТЬКОВО 0 Район СЕРГИЕВО-ПОСАДСКИЙ 0 0 0 0 0\\n', '6; г.Москва,-,ул.Ляпидевского, вл.1 street РОССИЯ МОСКВА МОСКВА 0 0 0 Улица ЛЯПИДЕВСКОГО 0 0 0\\n', '7;\"108841, г. Москва, г. Троицк, м-н \"\"В\"\", 54, 74 house РОССИЯ МОСКВА ТРОИЦК 0 0 0 Микрорайон В 54 0 0\"\\n', '8;\"109145, Москва, Привольная, 2, 1, ПОМЕЩЕНИЕ 3;house;РОССИЯ;МОСКВА;МОСКВА;;;;Улица;ПРИВОЛЬНАЯ;2;;1;;3\\n', '10000011;123060 Москва г, Маршала Рыбалко ул, 2 6 3 house РОССИЯ МОСКВА МОСКВА 0 0 0 Улица МАРШАЛА РЫБАЛКО 2 0 6\"\\n']\n"
          ],
          "name": "stdout"
        }
      ]
    },
    {
      "cell_type": "code",
      "metadata": {
        "id": "RmaSOamL8XZv",
        "colab_type": "code",
        "colab": {}
      },
      "source": [
        "TOKEN_RE = re.compile(r'[\\w\\d]+')  #regular expression to start with"
      ],
      "execution_count": 0,
      "outputs": []
    },
    {
      "cell_type": "code",
      "metadata": {
        "id": "WBaK8CSt8jKV",
        "colab_type": "code",
        "colab": {}
      },
      "source": [
        "def tokenize_text_simple_regex(txt, min_token_size=2):\n",
        "    \"\"\" This func tokenize text with TOKEN_RE applied ealier \"\"\"\n",
        "    txt = txt.lower()\n",
        "    all_tokens = TOKEN_RE.findall(txt)\n",
        "    return [token for token in all_tokens if len(token) >= min_token_size]\n",
        "\n",
        "def tokenize_corpus(texts, tokenizer=tokenize_text_simple_regex, **tokenizer_kwargs):\n",
        "    \"\"\"\n",
        "    This func tokenize corpus of docs\n",
        "    \"\"\"\n",
        "    return [tokenizer(text, **tokenizer_kwargs) for text in texts]"
      ],
      "execution_count": 0,
      "outputs": []
    },
    {
      "cell_type": "code",
      "metadata": {
        "id": "2tjbBoyq8xXg",
        "colab_type": "code",
        "outputId": "a3af8cee-4ac1-43fb-8b56-d6bf99708179",
        "colab": {
          "base_uri": "https://localhost:8080/",
          "height": 54
        }
      },
      "source": [
        "text_tokenized = tokenize_corpus(list_txt)\n",
        "\n",
        "print(text_tokenized[:10])"
      ],
      "execution_count": 0,
      "outputs": [
        {
          "output_type": "stream",
          "text": [
            "[['num', 'txt2'], ['115516', 'москва', 'бехтерева', 'house', 'россия', 'москва', 'москва', 'улица', 'бехтерева'], ['117279', 'москва', 'ул', 'миклухо', 'маклая', '34', 'оф', '35', 'house', 'россия', 'москва', 'москва', 'улица', 'миклухо', 'маклая', '34'], ['127083', 'москва', 'ул', 'масловка', '20', 'house', 'россия', 'москва', 'москва', 'улица', 'масловка', '20'], ['область', 'московская', 'район', 'раменский', 'subregion', 'россия', 'московская', 'район', 'раменский'], ['область', 'московская', 'район', 'сергиево', 'посадский', 'город', 'хотьково', 'city', 'россия', 'московская', 'хотьково', 'район', 'сергиево', 'посадский'], ['москва', 'ул', 'ляпидевского', 'вл', 'street', 'россия', 'москва', 'москва', 'улица', 'ляпидевского'], ['108841', 'москва', 'троицк', '54', '74', 'house', 'россия', 'москва', 'троицк', 'микрорайон', '54'], ['109145', 'москва', 'привольная', 'помещение', 'house', 'россия', 'москва', 'москва', 'улица', 'привольная'], ['10000011', '123060', 'москва', 'маршала', 'рыбалко', 'ул', 'house', 'россия', 'москва', 'москва', 'улица', 'маршала', 'рыбалко']]\n"
          ],
          "name": "stdout"
        }
      ]
    },
    {
      "cell_type": "code",
      "metadata": {
        "id": "sL_t07xL8jfl",
        "colab_type": "code",
        "colab": {}
      },
      "source": [
        "def build_vocabulary(tokenized_texts, max_size=100_000, max_doc_freq=1.0, min_count=1, pad_word=None):\n",
        "    \"\"\" This func builds vocabulary \"\"\"\n",
        "    word_counts = collections.defaultdict(int)\n",
        "    doc_n = 0\n",
        "\n",
        "    # посчитать количество документов, в которых употребляется каждое слово\n",
        "    # а также общее количество документов\n",
        "    for txt in tokenized_texts:\n",
        "        doc_n += 1\n",
        "        unique_text_tokens = set(txt)\n",
        "        for token in unique_text_tokens:\n",
        "            word_counts[token] += 1\n",
        "\n",
        "    # убрать слишком редкие и слишком частые слова\n",
        "    word_counts = {word: cnt for word, cnt in word_counts.items()\n",
        "                   if cnt >= min_count and cnt / doc_n <= max_doc_freq}\n",
        "\n",
        "    # отсортировать слова по убыванию частоты\n",
        "    sorted_word_counts = sorted(word_counts.items(),\n",
        "                                reverse=True,\n",
        "                                key=lambda pair: pair[1])\n",
        "\n",
        "    # добавим несуществующее слово с индексом 0 для удобства пакетной обработки\n",
        "    if pad_word is not None:\n",
        "        sorted_word_counts = [(pad_word, 0)] + sorted_word_counts\n",
        "\n",
        "    # если у нас по прежнему слишком много слов, оставить только max_size самых частотных\n",
        "    if len(word_counts) > max_size:\n",
        "        sorted_word_counts = sorted_word_counts[:max_size]\n",
        "\n",
        "    # нумеруем слова\n",
        "    word2id = {word: i for i, (word, _) in enumerate(sorted_word_counts)}\n",
        "\n",
        "    # нормируем частоты слов\n",
        "    word2freq = np.array([cnt / doc_n for _, cnt in sorted_word_counts], dtype='float32')\n",
        "\n",
        "    return word2id, word2freq"
      ],
      "execution_count": 0,
      "outputs": []
    },
    {
      "cell_type": "code",
      "metadata": {
        "id": "67B4krQp9Jap",
        "colab_type": "code",
        "outputId": "30d1001f-0fa9-451f-ee2f-9c8b28ac0a9f",
        "colab": {
          "base_uri": "https://localhost:8080/",
          "height": 70
        }
      },
      "source": [
        "vocabulary, word_doc_freq = build_vocabulary(text_tokenized, max_doc_freq=1.0, min_count=2)\n",
        "print(\"Размер словаря\", len(vocabulary))\n",
        "print(list(vocabulary.items())[:20])"
      ],
      "execution_count": 0,
      "outputs": [
        {
          "output_type": "stream",
          "text": [
            "Размер словаря 22571\n",
            "[('house', 0), ('москва', 1), ('улица', 2), ('россия', 3), ('московская', 4), ('область', 5), ('ул', 6), ('район', 7), ('дом', 8), ('street', 9), ('переулок', 10), ('проезд', 11), ('шоссе', 12), ('проспект', 13), ('пер', 14), ('пр', 15), ('город', 16), ('кт', 17), ('10', 18), ('бульвар', 19)]\n"
          ],
          "name": "stdout"
        }
      ]
    },
    {
      "cell_type": "code",
      "metadata": {
        "id": "HQJy5BIu9SZl",
        "colab_type": "code",
        "colab": {}
      },
      "source": [
        "def plot_vectors(x, y, labels):\n",
        "\n",
        "    ax.scatter(x, y)\n",
        "    for cur_x, cur_y, cur_label in zip(x, y, labels):\n",
        "        ax.annotate(cur_label, (cur_x, cur_y))"
      ],
      "execution_count": 0,
      "outputs": []
    },
    {
      "cell_type": "code",
      "metadata": {
        "id": "YCSu5BoL9fW_",
        "colab_type": "code",
        "outputId": "72419c90-6d52-4a61-96fd-63e41c231ae0",
        "colab": {
          "base_uri": "https://localhost:8080/",
          "height": 676
        }
      },
      "source": [
        "test_words = ['house', 'москва', 'улица', 'россия', 'московская', 'область', 'ул', 'район', 'дом', 'street', 'переулок', 'проезд', 'шоссе', \\\n",
        "              'проспект', 'пер', 'пр', 'город', 'кт', '10', 'бульвар']\n",
        "test_vectors = word_doc_freq[:20]\n",
        "print(test_vectors)\n",
        "#let s build list with len of words\n",
        "len_list = []\n",
        "for i in test_words:\n",
        "  len_list.append(len(i))\n",
        "print(len_list)\n",
        "\n",
        "fig, ax = plt.subplots()\n",
        "fig.set_size_inches((10, 10))\n",
        "plot_vectors(len_list, test_vectors, test_words)"
      ],
      "execution_count": 0,
      "outputs": [
        {
          "output_type": "stream",
          "text": [
            "[0.8567006  0.66614443 0.58643275 0.54707    0.34015355 0.3247404\n",
            " 0.2764957  0.1292949  0.1292949  0.11806519 0.0817007  0.07558206\n",
            " 0.07222685 0.06816896 0.05089236 0.04854305 0.04017784 0.03449614\n",
            " 0.02818839 0.0281835 ]\n",
            "[5, 6, 5, 6, 10, 7, 2, 5, 3, 6, 8, 6, 5, 8, 3, 2, 5, 2, 2, 7]\n"
          ],
          "name": "stdout"
        },
        {
          "output_type": "display_data",
          "data": {
            "image/png": "[encoded data removed]",
            "text/plain": [
              "<Figure size 720x720 with 1 Axes>"
            ]
          },
          "metadata": {
            "tags": [],
            "needs_background": "light"
          }
        }
      ]
    },
    {
      "cell_type": "code",
      "metadata": {
        "id": "-HCQpv2-9nTV",
        "colab_type": "code",
        "outputId": "7b557ca7-2fc2-49c4-fad1-e9e79946bc40",
        "colab": {
          "base_uri": "https://localhost:8080/",
          "height": 134
        }
      },
      "source": [
        "X=good_df.original\n",
        "X.head()"
      ],
      "execution_count": 0,
      "outputs": [
        {
          "output_type": "execute_result",
          "data": {
            "text/plain": [
              "num\n",
              "1                      115516, Москва, Бехтерева, 2, 1\n",
              "2     117279, г. Москва, ул. Миклухо-Маклая, д.34, ...\n",
              "3             127083, Москва, ул. Масловка В, 20, 1, 6\n",
              "4                  Область Московская, Район Раменский\n",
              "5     Область Московская, Район Сергиево-Посадский,...\n",
              "Name: original, dtype: object"
            ]
          },
          "metadata": {
            "tags": []
          },
          "execution_count": 40
        }
      ]
    },
    {
      "cell_type": "code",
      "metadata": {
        "id": "FVqG0kjU9f5D",
        "colab_type": "code",
        "colab": {}
      },
      "source": [
        "list_X=list(X)"
      ],
      "execution_count": 0,
      "outputs": []
    },
    {
      "cell_type": "code",
      "metadata": {
        "id": "DFmpc0lS8YAn",
        "colab_type": "code",
        "outputId": "a021b497-f6d3-469b-f5ae-957a2c0c2e87",
        "colab": {
          "base_uri": "https://localhost:8080/",
          "height": 54
        }
      },
      "source": [
        "print(list_X[:10])"
      ],
      "execution_count": 0,
      "outputs": [
        {
          "output_type": "stream",
          "text": [
            "[' 115516, Москва, Бехтерева, 2, 1', ' 117279, г. Москва, ул. Миклухо-Маклая, д.34, оф.35', ' 127083, Москва, ул. Масловка В, 20, 1, 6', ' Область Московская, Район Раменский', ' Область Московская, Район Сергиево-Посадский, Город Хотьково', ' г.Москва,-,ул.Ляпидевского, вл.1', '108841, г. Москва, г. Троицк, м-н \"В\", 54, 74', '109145, Москва, Привольная, 2, 1, ПОМЕЩЕНИЕ 3;house;РОССИЯ;МОСКВА;МОСКВА;;;;Улица;ПРИВОЛЬНАЯ;2;;1;;3\\n10000011;123060 Москва г, Маршала Рыбалко ул, 2 6 3', '125167 Москва г, Ленинградский пр-кт, 36 СТР.15, ПОМЕЩЕНИЕ 1;house;РОССИЯ;МОСКВА;МОСКВА;;;;Проспект;ЛЕНИНГРАДСКИЙ;36;15;;;1\\n10000013;127238, г Москва, Северный административный округ, район Тимирязевский, пр Линейный, д 6 \"\"А\"\", кв 25\"', '140700, Московская область, г.Шатура, Шатурский р-он, ул. Моховая, дом 30\"А\"']\n"
          ],
          "name": "stdout"
        }
      ]
    },
    {
      "cell_type": "code",
      "metadata": {
        "id": "Xd9odrTe104h",
        "colab_type": "code",
        "outputId": "82fab5bc-6152-4ba2-8b88-611ce2458c17",
        "colab": {
          "base_uri": "https://localhost:8080/",
          "height": 54
        }
      },
      "source": [
        "X_tokenized = tokenize_corpus(list_X)\n",
        "\n",
        "print(X_tokenized[:10])"
      ],
      "execution_count": 0,
      "outputs": [
        {
          "output_type": "stream",
          "text": [
            "[['115516', 'москва', 'бехтерева'], ['117279', 'москва', 'ул', 'миклухо', 'маклая', '34', 'оф', '35'], ['127083', 'москва', 'ул', 'масловка', '20'], ['область', 'московская', 'район', 'раменский'], ['область', 'московская', 'район', 'сергиево', 'посадский', 'город', 'хотьково'], ['москва', 'ул', 'ляпидевского', 'вл'], ['108841', 'москва', 'троицк', '54', '74'], ['109145', 'москва', 'привольная', 'помещение', 'house', 'россия', 'москва', 'москва', 'улица', 'привольная', '10000011', '123060', 'москва', 'маршала', 'рыбалко', 'ул'], ['125167', 'москва', 'ленинградский', 'пр', 'кт', '36', 'стр', '15', 'помещение', 'house', 'россия', 'москва', 'москва', 'проспект', 'ленинградский', '36', '15', '10000013', '127238', 'москва', 'северный', 'административный', 'округ', 'район', 'тимирязевский', 'пр', 'линейный', 'кв', '25'], ['140700', 'московская', 'область', 'шатура', 'шатурский', 'он', 'ул', 'моховая', 'дом', '30']]\n"
          ],
          "name": "stdout"
        }
      ]
    },
    {
      "cell_type": "code",
      "metadata": {
        "id": "SFgIXQaLQ28z",
        "colab_type": "code",
        "colab": {}
      },
      "source": [
        "def vectorize_texts(tokenized_texts, word2id, word2freq, mode='tfidf', scale=True):\n",
        "    \"\"\" This func vectorize texts \"\"\"\n",
        "    assert mode in {'ltfidf', 'tfidf', 'idf', 'tf', 'bin'}\n",
        "    # ltfidf is ln(TF+1)*IDF\n",
        "    # считаем количество употреблений каждого слова в каждом документе\n",
        "    result = scipy.sparse.dok_matrix((len(tokenized_texts), len(word2id)), dtype='float32')\n",
        "    for text_i, text in enumerate(tokenized_texts):\n",
        "        for token in text:\n",
        "            if token in word2id:\n",
        "                result[text_i, word2id[token]] += 1  #add 1 to element of matrix\n",
        "\n",
        "    # получаем бинарные вектора \"встречается или нет\"\n",
        "    if mode == 'bin':\n",
        "        result = (result > 0).astype('float32')\n",
        "\n",
        "    # получаем вектора относительных частот слова в документе\n",
        "    elif mode == 'tf':\n",
        "        result = result.tocsr()\n",
        "        result = result.multiply(1 / result.sum(1))\n",
        "    # учитываем всю информацию, которая у нас есть:\n",
        "    # частоту слова в документе и частоту слова в корпусе\n",
        "    elif mode == 'tfidf':\n",
        "        result = result.tocsr()\n",
        "        result = result.multiply(1 / result.sum(1))  # разделить каждую строку на её длину\n",
        "        result = result.multiply(1 / word2freq)  # разделить каждый столбец на вес слова\n",
        "    elif mode == 'ltfidf':\n",
        "        result = result.tocsr()\n",
        "        result = result.multiply(1 / result.sim(1))  # divide string to its len\n",
        "        one_array = np.ones(len(tokenized_texts), len(word2id))\n",
        "        result = np.log(result + one_array)\n",
        "        result = result.multiply( 1 / word2freq)\n",
        "\n",
        "    if scale:\n",
        "        #result = result.tocsc()\n",
        "        #result = result.std(0, ddof = 1)\n",
        "        result = result.tocsr()\n",
        "        result -= result.min()\n",
        "        result /= (result.max() + 1e-6)\n",
        "\n",
        "    return result.tocsr()\n"
      ],
      "execution_count": 0,
      "outputs": []
    },
    {
      "cell_type": "code",
      "metadata": {
        "id": "Z2K0U7TZP_he",
        "colab_type": "code",
        "outputId": "1cc3051f-f875-4661-87b2-c3ebb2580626",
        "colab": {
          "base_uri": "https://localhost:8080/",
          "height": 346
        }
      },
      "source": [
        "VECTORIZATION_MODE = 'tfidf'\n",
        "train_vectors = vectorize_texts(X_tokenized, vocabulary, word_doc_freq, mode=VECTORIZATION_MODE)\n",
        "\n",
        "print('Размерность матрицы признаков обучающей выборки', train_vectors.shape)\n",
        "print()\n",
        "print('Количество ненулевых элементов в обучающей выборке', train_vectors.nnz)\n",
        "print('Процент заполненности матрицы признаков {:.2f}%'.format(train_vectors.nnz * 100 / (train_vectors.shape[0] * train_vectors.shape[1])))\n",
        "print()"
      ],
      "execution_count": 0,
      "outputs": [
        {
          "output_type": "error",
          "ename": "AttributeError",
          "evalue": "ignored",
          "traceback": [
            "\u001b[0;31m---------------------------------------------------------------------------\u001b[0m",
            "\u001b[0;31mAttributeError\u001b[0m                            Traceback (most recent call last)",
            "\u001b[0;32m<ipython-input-45-136e55b29796>\u001b[0m in \u001b[0;36m<module>\u001b[0;34m()\u001b[0m\n\u001b[1;32m      1\u001b[0m \u001b[0mVECTORIZATION_MODE\u001b[0m \u001b[0;34m=\u001b[0m \u001b[0;34m'tfidf'\u001b[0m\u001b[0;34m\u001b[0m\u001b[0;34m\u001b[0m\u001b[0m\n\u001b[0;32m----> 2\u001b[0;31m \u001b[0mtrain_vectors\u001b[0m \u001b[0;34m=\u001b[0m \u001b[0mvectorize_texts\u001b[0m\u001b[0;34m(\u001b[0m\u001b[0mX_tokenized\u001b[0m\u001b[0;34m,\u001b[0m \u001b[0mvocabulary\u001b[0m\u001b[0;34m,\u001b[0m \u001b[0mword_doc_freq\u001b[0m\u001b[0;34m,\u001b[0m \u001b[0mmode\u001b[0m\u001b[0;34m=\u001b[0m\u001b[0mVECTORIZATION_MODE\u001b[0m\u001b[0;34m)\u001b[0m\u001b[0;34m\u001b[0m\u001b[0;34m\u001b[0m\u001b[0m\n\u001b[0m\u001b[1;32m      3\u001b[0m \u001b[0;34m\u001b[0m\u001b[0m\n\u001b[1;32m      4\u001b[0m \u001b[0mprint\u001b[0m\u001b[0;34m(\u001b[0m\u001b[0;34m'Размерность матрицы признаков обучающей выборки'\u001b[0m\u001b[0;34m,\u001b[0m \u001b[0mtrain_vectors\u001b[0m\u001b[0;34m.\u001b[0m\u001b[0mshape\u001b[0m\u001b[0;34m)\u001b[0m\u001b[0;34m\u001b[0m\u001b[0;34m\u001b[0m\u001b[0m\n\u001b[1;32m      5\u001b[0m \u001b[0mprint\u001b[0m\u001b[0;34m(\u001b[0m\u001b[0;34m)\u001b[0m\u001b[0;34m\u001b[0m\u001b[0;34m\u001b[0m\u001b[0m\n",
            "\u001b[0;32m<ipython-input-44-25c280182b79>\u001b[0m in \u001b[0;36mvectorize_texts\u001b[0;34m(tokenized_texts, word2id, word2freq, mode, scale)\u001b[0m\n\u001b[1;32m      4\u001b[0m     \u001b[0;31m# ltfidf is ln(TF+1)*IDF\u001b[0m\u001b[0;34m\u001b[0m\u001b[0;34m\u001b[0m\u001b[0;34m\u001b[0m\u001b[0m\n\u001b[1;32m      5\u001b[0m     \u001b[0;31m# считаем количество употреблений каждого слова в каждом документе\u001b[0m\u001b[0;34m\u001b[0m\u001b[0;34m\u001b[0m\u001b[0;34m\u001b[0m\u001b[0m\n\u001b[0;32m----> 6\u001b[0;31m     \u001b[0mresult\u001b[0m \u001b[0;34m=\u001b[0m \u001b[0mscipy\u001b[0m\u001b[0;34m.\u001b[0m\u001b[0msparse\u001b[0m\u001b[0;34m.\u001b[0m\u001b[0mdok_matrix\u001b[0m\u001b[0;34m(\u001b[0m\u001b[0;34m(\u001b[0m\u001b[0mlen\u001b[0m\u001b[0;34m(\u001b[0m\u001b[0mtokenized_texts\u001b[0m\u001b[0;34m)\u001b[0m\u001b[0;34m,\u001b[0m \u001b[0mlen\u001b[0m\u001b[0;34m(\u001b[0m\u001b[0mword2id\u001b[0m\u001b[0;34m)\u001b[0m\u001b[0;34m)\u001b[0m\u001b[0;34m,\u001b[0m \u001b[0mdtype\u001b[0m\u001b[0;34m=\u001b[0m\u001b[0;34m'float32'\u001b[0m\u001b[0;34m)\u001b[0m\u001b[0;34m\u001b[0m\u001b[0;34m\u001b[0m\u001b[0m\n\u001b[0m\u001b[1;32m      7\u001b[0m     \u001b[0;32mfor\u001b[0m \u001b[0mtext_i\u001b[0m\u001b[0;34m,\u001b[0m \u001b[0mtext\u001b[0m \u001b[0;32min\u001b[0m \u001b[0menumerate\u001b[0m\u001b[0;34m(\u001b[0m\u001b[0mtokenized_texts\u001b[0m\u001b[0;34m)\u001b[0m\u001b[0;34m:\u001b[0m\u001b[0;34m\u001b[0m\u001b[0;34m\u001b[0m\u001b[0m\n\u001b[1;32m      8\u001b[0m         \u001b[0;32mfor\u001b[0m \u001b[0mtoken\u001b[0m \u001b[0;32min\u001b[0m \u001b[0mtext\u001b[0m\u001b[0;34m:\u001b[0m\u001b[0;34m\u001b[0m\u001b[0;34m\u001b[0m\u001b[0m\n",
            "\u001b[0;31mAttributeError\u001b[0m: module 'scipy' has no attribute 'sparse'"
          ]
        }
      ]
    },
    {
      "cell_type": "code",
      "metadata": {
        "id": "EwvVCUdBVjpv",
        "colab_type": "code",
        "colab": {}
      },
      "source": [
        "from sklearn.feature_extraction.text import TfidfVectorizer\n",
        "from sklearn.pipeline import Pipeline\n",
        "from sklearn.linear_model import LogisticRegression\n",
        "from sklearn.ensemble import GradientBoostingClassifier\n",
        "from sklearn.model_selection import train_test_split\n",
        "\n"
      ],
      "execution_count": 0,
      "outputs": []
    },
    {
      "cell_type": "code",
      "metadata": {
        "id": "AfUtZAT6WIXX",
        "colab_type": "code",
        "colab": {}
      },
      "source": [
        "sklearn_pipeline = Pipeline((('vect', TfidfVectorizer(tokenizer=tokenize_text_simple_regex,\n",
        "                                                      max_df=0.8,\n",
        "                                                      min_df=5)),\n",
        "                             ('cls', GradientBoostingClassifier(random_state=RS))))"
      ],
      "execution_count": 0,
      "outputs": []
    },
    {
      "cell_type": "code",
      "metadata": {
        "id": "I5uRzVinaDxc",
        "colab_type": "code",
        "colab": {}
      },
      "source": [
        "sklearn_pipeline.fit(good_df['original'], good_df['type']);"
      ],
      "execution_count": 0,
      "outputs": []
    },
    {
      "cell_type": "code",
      "metadata": {
        "id": "36km9nozP_1r",
        "colab_type": "code",
        "colab": {}
      },
      "source": [
        "sklearn_train_pred = sklearn_pipeline.predict_proba(good_df['original'])"
      ],
      "execution_count": 0,
      "outputs": []
    },
    {
      "cell_type": "code",
      "metadata": {
        "id": "QhVRzP7IQAON",
        "colab_type": "code",
        "outputId": "c96c159a-deec-413f-da9d-1df0b57d4ddc",
        "colab": {
          "base_uri": "https://localhost:8080/",
          "height": 353
        }
      },
      "source": [
        "print(sklearn_train_pred[:10])"
      ],
      "execution_count": 0,
      "outputs": [
        {
          "output_type": "stream",
          "text": [
            "[[1.42266541e-02 8.92061653e-01 7.79584370e-09 9.35437342e-02\n",
            "  1.67950972e-04]\n",
            " [9.74033486e-03 8.94635450e-01 7.55904829e-09 9.54613585e-02\n",
            "  1.62849534e-04]\n",
            " [2.60781190e-03 9.63722992e-01 3.13010267e-09 3.36017587e-02\n",
            "  6.74338540e-05]\n",
            " [0.00000000e+00 0.00000000e+00 0.00000000e+00 0.00000000e+00\n",
            "  1.00000000e+00]\n",
            " [6.33094723e-01 2.35689756e-01 7.40893150e-09 1.31055898e-01\n",
            "  1.59615469e-04]\n",
            " [3.84440897e-03 1.00375345e-01 4.61436454e-09 8.95680832e-01\n",
            "  9.94102808e-05]\n",
            " [1.54713098e-02 8.82618387e-01 8.47788327e-09 1.01727650e-01\n",
            "  1.82644598e-04]\n",
            " [4.49012815e-03 9.15132610e-01 9.70267169e-09 8.01682213e-02\n",
            "  2.09031018e-04]\n",
            " [4.48339370e-03 9.74780522e-01 2.70384203e-09 2.06778308e-02\n",
            "  5.82506417e-05]\n",
            " [4.47938954e-03 9.78604026e-01 2.46304905e-09 1.68635189e-02\n",
            "  5.30630806e-05]]\n"
          ],
          "name": "stdout"
        }
      ]
    },
    {
      "cell_type": "code",
      "metadata": {
        "id": "_pdVfThIQA0M",
        "colab_type": "code",
        "colab": {}
      },
      "source": [
        "import pickle"
      ],
      "execution_count": 0,
      "outputs": []
    },
    {
      "cell_type": "code",
      "metadata": {
        "id": "_8eVOphmhC2q",
        "colab_type": "code",
        "colab": {}
      },
      "source": [
        "# save the model to disk\n",
        "filename = 'model_dj01.sav'\n",
        "pickle.dump(sklearn_pipeline, open(filename, 'wb'))\n",
        "\n",
        "# some time later...\n",
        "\n",
        "# load the model from disk\n",
        "#loaded_model = pickle.load(open(filename, 'rb'))\n",
        "#result = loaded_model.score(X_test, Y_test)\n",
        "#print(result)"
      ],
      "execution_count": 0,
      "outputs": []
    },
    {
      "cell_type": "code",
      "metadata": {
        "id": "fQYGYeovgneB",
        "colab_type": "code",
        "outputId": "1e130e16-70fa-46b2-a18a-ae65c5d709b2",
        "colab": {
          "base_uri": "https://localhost:8080/",
          "height": 34
        }
      },
      "source": [
        "!ls"
      ],
      "execution_count": 0,
      "outputs": [
        {
          "output_type": "stream",
          "text": [
            "gdrive\tmodel_dj01.sav\tsample_data\n"
          ],
          "name": "stdout"
        }
      ]
    },
    {
      "cell_type": "code",
      "metadata": {
        "id": "zW5aelFvQAlK",
        "colab_type": "code",
        "colab": {}
      },
      "source": [
        ""
      ],
      "execution_count": 0,
      "outputs": []
    },
    {
      "cell_type": "code",
      "metadata": {
        "id": "QhzZhxKSsRI8",
        "colab_type": "code",
        "colab": {}
      },
      "source": [
        "from google.colab import files\n",
        "files.download('model_dj01.sav')"
      ],
      "execution_count": 0,
      "outputs": []
    },
    {
      "cell_type": "code",
      "metadata": {
        "id": "Fax3tFXlsRff",
        "colab_type": "code",
        "colab": {}
      },
      "source": [
        ""
      ],
      "execution_count": 0,
      "outputs": []
    },
    {
      "cell_type": "code",
      "metadata": {
        "id": "IEMjtoxc-zXu",
        "colab_type": "code",
        "colab": {}
      },
      "source": [
        ""
      ],
      "execution_count": 0,
      "outputs": []
    }
  ]
}